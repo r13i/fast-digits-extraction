{
 "cells": [
  {
   "cell_type": "code",
   "execution_count": 1,
   "metadata": {},
   "outputs": [],
   "source": [
    "import numpy as np\n",
    "from exec_time import exec_time    # Home-made decorator to calculate the execution time of functions"
   ]
  },
  {
   "cell_type": "markdown",
   "metadata": {},
   "source": [
    "## Finding-out the fastest exponentiation algorithm"
   ]
  },
  {
   "cell_type": "markdown",
   "metadata": {},
   "source": [
    "#### Defining some helper functions"
   ]
  },
  {
   "cell_type": "code",
   "execution_count": 2,
   "metadata": {},
   "outputs": [],
   "source": [
    "def exp_by_squaring(base, exp):\n",
    "    \"\"\"\n",
    "    Homemade power function by squaring method based on well-known algorithm\n",
    "    @wiki `https://en.wikipedia.org/wiki/Exponentiation_by_squaring`\n",
    "    \"\"\"\n",
    "    if exp == 0:\n",
    "        return 1\n",
    "    if exp < 0:\n",
    "        base = 1 / base\n",
    "        exp = -exp\n",
    "    res = 1\n",
    "    while exp > 1:\n",
    "        if exp % 2:\n",
    "            res = res * base\n",
    "            base = base * base\n",
    "            exp = (exp - 1) / 2\n",
    "        else:\n",
    "            base = base * base\n",
    "            exp = exp / 2\n",
    "    return base * res\n",
    "\n",
    "\n",
    "from itertools import compress\n",
    "from functools import reduce\n",
    "from operator import mul\n",
    "\n",
    "def fast_exp(base, exp):\n",
    "    \"\"\"\n",
    "    Calculate the exponentiation by applying reduce function to square the `base` according to bits of the `exponent`\n",
    "    \"\"\"\n",
    "    def bits_of(m) :\n",
    "        while m:\n",
    "            yield m & 1\n",
    "            m >>= 1\n",
    "\n",
    "    def squares(b) :\n",
    "        while True :\n",
    "            yield b\n",
    "            b *= b\n",
    "    return reduce(mul, compress(squares(base), bits_of(exp)), 1)"
   ]
  },
  {
   "cell_type": "code",
   "execution_count": 3,
   "metadata": {
    "scrolled": true
   },
   "outputs": [
    {
     "name": "stdout",
     "output_type": "stream",
     "text": [
      "Start ...\n",
      "Calculating n^n using various functions and algorithms :\n",
      "\n",
      "*** Execution of exec1 :\n",
      "> The result : 8741133280710329699\n",
      "> Execution time : 0.028371810913085938 ms\n",
      "\n",
      "*** Execution of exec2 :\n",
      "> The result : 114374367934617190099880295228066276746218078451850229775887975052369504785666896446606568365201542169649974727730628842345343196581134895919942820874449837212099476648958359023796078549041949007807220625356526926729664064846685758382803707100766740220839267\n",
      "> Execution time : 0.0064373016357421875 ms\n",
      "\n",
      "*** Execution of exec3 :\n",
      "> The result : 114374367934617190099880295228066276746218078451850229775887975052369504785666896446606568365201542169649974727730628842345343196581134895919942820874449837212099476648958359023796078549041949007807220625356526926729664064846685758382803707100766740220839267\n",
      "> Execution time : 0.014066696166992188 ms\n",
      "\n",
      "*** Execution of exec4 :\n",
      "> The result : 114374367934617190099880295228066276746218078451850229775887975052369504785666896446606568365201542169649974727730628842345343196581134895919942820874449837212099476648958359023796078549041949007807220625356526926729664064846685758382803707100766740220839267\n",
      "> Execution time : 0.017642974853515625 ms\n",
      "\n"
     ]
    }
   ],
   "source": [
    "@exec_time\n",
    "def exec1(n):\n",
    "    return np.power(n, n)\n",
    "\n",
    "@exec_time\n",
    "def exec2(n):\n",
    "    return pow(n, n)\n",
    "\n",
    "@exec_time\n",
    "def exec3(n):\n",
    "    return exp_by_squaring(n, n)\n",
    "\n",
    "@exec_time\n",
    "def exec4(n):\n",
    "    return fast_exp(n, n)\n",
    "\n",
    "\n",
    "n = 123\n",
    "print(\"Start ...\")\n",
    "print(\"Calculating n^n using various functions and algorithms :\", end=\"\\n\\n\")\n",
    "\n",
    "exec1(n)\n",
    "exec2(n)\n",
    "exec3(n)\n",
    "exec4(n)"
   ]
  },
  {
   "cell_type": "markdown",
   "metadata": {},
   "source": [
    "##### Results\n",
    "\n",
    "- The built-in `pow` is the fastest solution. Furthermore, it gives the possibility to calculate the _modulo_ `n ^ m % p` directly and yields even faster results.\n",
    "\n",
    "- We notice that Numpy's `power` gives wrong results for large integers due to the 64-bits width limitation."
   ]
  },
  {
   "cell_type": "code",
   "execution_count": null,
   "metadata": {},
   "outputs": [],
   "source": []
  },
  {
   "cell_type": "markdown",
   "metadata": {},
   "source": [
    "## Extracting Digits"
   ]
  },
  {
   "cell_type": "code",
   "execution_count": 4,
   "metadata": {},
   "outputs": [],
   "source": [
    "def f1(n):\n",
    "    \"\"\"\n",
    "    Using built-in `pow` without the modulo argument\n",
    "    \"\"\"\n",
    "    power = pow(n, n)\n",
    "    units = power % 10\n",
    "    tens = int((power % 100) / 10)\n",
    "    return (units, tens)\n",
    "\n",
    "def f2(n):\n",
    "    \"\"\"\n",
    "    Using built-in `pow` with the modulo argument\n",
    "    \"\"\"\n",
    "    power = pow(n, n, 100)\n",
    "    units = power % 10\n",
    "    tens = int((power / 10) % 10)\n",
    "    return (units, tens)\n",
    "\n",
    "def f3(n):\n",
    "    \"\"\"\n",
    "    Using built-in `pow` with the modulo argument twice separately\n",
    "    \"\"\"\n",
    "    units = pow(n, n, 10)\n",
    "    tens = int(pow(n, n, 100) / 10)\n",
    "    return (units, tens)\n",
    "\n",
    "def f4(n):\n",
    "    \"\"\"\n",
    "    Translate digits to characters and extract digits by index\n",
    "    \"\"\"\n",
    "    power = str(pow(n, n))\n",
    "    units = power[-1]\n",
    "    tens = power[-2]\n",
    "    return (units, tens)"
   ]
  },
  {
   "cell_type": "code",
   "execution_count": 21,
   "metadata": {},
   "outputs": [],
   "source": [
    "@exec_time\n",
    "def exec1(n):\n",
    "    return f1(n)\n",
    "\n",
    "@exec_time\n",
    "def exec2(n):\n",
    "    return f2(n)\n",
    "\n",
    "@exec_time\n",
    "def exec3(n):\n",
    "    return f3(n)\n",
    "\n",
    "@exec_time\n",
    "def exec4(n):\n",
    "    return f4(n)"
   ]
  },
  {
   "cell_type": "code",
   "execution_count": 22,
   "metadata": {
    "scrolled": true
   },
   "outputs": [
    {
     "name": "stdout",
     "output_type": "stream",
     "text": [
      "*** Execution of exec1 :\n",
      "> The result : (7, 6)\n",
      "> Execution time : 0.014543533325195312 ms\n",
      "\n",
      "*** Execution of exec2 :\n",
      "> The result : (7, 6)\n",
      "> Execution time : 0.014781951904296875 ms\n",
      "\n",
      "*** Execution of exec3 :\n",
      "> The result : (7, 6)\n",
      "> Execution time : 0.013828277587890625 ms\n",
      "\n",
      "*** Execution of exec4 :\n",
      "> The result : ('7', '6')\n",
      "> Execution time : 0.020742416381835938 ms\n",
      "\n"
     ]
    }
   ],
   "source": [
    "n = 123\n",
    "\n",
    "exec1(n)\n",
    "exec2(n)\n",
    "exec3(n)\n",
    "exec4(n)"
   ]
  },
  {
   "cell_type": "code",
   "execution_count": null,
   "metadata": {},
   "outputs": [],
   "source": []
  }
 ],
 "metadata": {
  "kernelspec": {
   "display_name": "Python 3",
   "language": "python",
   "name": "python3"
  },
  "language_info": {
   "codemirror_mode": {
    "name": "ipython",
    "version": 3
   },
   "file_extension": ".py",
   "mimetype": "text/x-python",
   "name": "python",
   "nbconvert_exporter": "python",
   "pygments_lexer": "ipython3",
   "version": "3.5.2"
  }
 },
 "nbformat": 4,
 "nbformat_minor": 2
}
